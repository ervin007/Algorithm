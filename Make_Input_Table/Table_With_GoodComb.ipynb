{
 "cells": [
  {
   "cell_type": "code",
   "execution_count": 1,
   "metadata": {},
   "outputs": [],
   "source": [
    "import pandas as pd\n",
    "import numpy as np\n",
    "import os\n",
    "import pickle\n",
    "from IPython.display import clear_output\n",
    "from dateutil import parser\n",
    "from datetime import datetime, time\n",
    "import itertools\n",
    "from tqdm import tqdm\n",
    "import sys\n",
    "import warnings\n",
    "import datetime\n",
    "from itertools import permutations \n",
    "if not sys.warnoptions:\n",
    "    warnings.simplefilter(\"ignore\")\n",
    "# pbar = tqdm(total=36)\n",
    "# pbar.update(1)\n",
    "# pbar.close()"
   ]
  },
  {
   "cell_type": "code",
   "execution_count": 2,
   "metadata": {},
   "outputs": [],
   "source": [
    "def addSecs(Base, Seconds):\n",
    "    return Base + datetime.timedelta(seconds=Seconds)\n",
    "\n",
    "def Get_Date_Min_Max(Files_Name, Before, Finish):\n",
    "    ftr = [3600,60,1]\n",
    "    \n",
    "    Files = Files_Name.split(\"//\")[-1].split(\".\")[0]\n",
    "    \n",
    "    Start = Files_Name.split(\"//\")[-1].split(\".\")[0].split(\"-\")[0].split(\"_\")[-1]\n",
    "    Start = Start[0:2] + \":\" + Start[2:4] + \":\" + Start[4:6]\n",
    "    Start = sum([a*b for a,b in zip(ftr, map(int,Start.split(':')))])\n",
    "\n",
    "    End =Files_Name.split(\"//\")[-1].split(\".\")[0].split(\"-\")[1].split(\"_\")[-1]\n",
    "    End = End[0:2] + \":\" + End[2:4] + \":\" + End[4:6]\n",
    "    End = sum([a*b for a,b in zip(ftr, map(int,End.split(':')))])\n",
    "\n",
    "    Date_1 = Files.split(\"-\")[0].split(\"_\")[:3][::-1]\n",
    "    Date_2 = Files.split(\"-\")[1].split(\"_\")[:3][::-1]\n",
    "\n",
    "    Date_1 = datetime.datetime(int(Date_1[0]), int(Date_1[1]), int(Date_1[2]))\n",
    "    Date_2 = datetime.datetime(int(Date_2[0]), int(Date_2[1]), int(Date_2[2]))\n",
    "\n",
    "    Start = addSecs(Date_1, Start)\n",
    "    End = addSecs(Date_2, End)\n",
    "\n",
    "    if End.hour == 0:\n",
    "        if Finish == 24:\n",
    "            Valid_Before = int(24-Before) in range(Start.hour, 24)\n",
    "        else:\n",
    "            Valid_Before = int(Finish-Before) in range(Start.hour, 24)\n",
    "    else:\n",
    "        Valid_Before = int(Finish-Before) in range(Start.hour, End.hour)\n",
    "\n",
    "    if End.hour == 0:\n",
    "        Valid_Finish = int(24) in range(Start.hour, 25)\n",
    "    else:\n",
    "        Valid_Finish = int(Finish) in range(Start.hour, End.hour)\n",
    "    Valid = Valid_Before and Valid_Finish\n",
    "\n",
    "    Temp = {\n",
    "            \"Valid\" : Valid,\n",
    "            \"Date\" : Date_1,\n",
    "            \"Start\" : Start,\n",
    "            \"End\" : End\n",
    "            }\n",
    "\n",
    "    return Temp"
   ]
  },
  {
   "cell_type": "code",
   "execution_count": 3,
   "metadata": {},
   "outputs": [],
   "source": [
    "Patients = ['C0160',\n",
    " 'C0161',\n",
    " 'C0163',\n",
    " 'C0176',\n",
    " 'C0177',\n",
    " 'C0178',\n",
    " 'C0182',\n",
    " 'C0183',\n",
    " 'C0186',\n",
    " 'C0187',\n",
    " 'C0188',\n",
    " 'C0189',\n",
    " 'C0190',\n",
    " 'C0191',\n",
    " 'C0192',\n",
    " 'C0193',\n",
    " 'C0196',\n",
    " 'C0197',\n",
    " 'C0198',\n",
    " 'C0199',\n",
    " 'C0200',\n",
    " 'C0201',\n",
    " 'C0202',\n",
    " 'C0203',\n",
    " 'C0206',\n",
    " 'C0207',\n",
    " 'C0209',\n",
    " 'C0210',\n",
    " 'C0212',\n",
    " 'C0213',\n",
    " 'C0214',\n",
    " 'C0215',\n",
    " 'C0216',\n",
    " 'C0217',\n",
    " 'C0218',\n",
    " 'C0219',\n",
    " 'C0221',\n",
    " 'C0222',\n",
    " 'C0223',\n",
    " 'C0224',\n",
    " 'C0225',\n",
    " 'C0228',\n",
    " 'C0229',\n",
    " 'C0230',\n",
    " 'C0231',\n",
    " 'C0232',\n",
    " 'C0233',\n",
    " 'C0235',\n",
    " 'C0236',\n",
    " 'C0245',\n",
    " 'C0248',\n",
    " 'C0249',\n",
    " 'C0250',\n",
    " 'C0251',\n",
    " 'C0253',\n",
    " 'C0255',\n",
    " 'C0256',\n",
    " 'C0257',\n",
    " 'C0258',\n",
    " 'C0259',\n",
    " 'C0262',\n",
    " 'C0263',\n",
    " 'C0264',\n",
    " 'C0265',\n",
    " 'C0266',\n",
    " 'C0267',\n",
    " 'C0270',\n",
    " 'C0271',\n",
    " 'C0272',\n",
    " 'DCP_00001',\n",
    " 'DCP_00004',\n",
    " 'DCP_00005',\n",
    " 'DCP_00006',\n",
    " 'DCP_00007',\n",
    " 'DCP_00008',\n",
    " 'DCP_00009',\n",
    " 'DCP_00010',\n",
    " 'DCP_00011',\n",
    " 'DCP_00013',\n",
    " 'DCP_00014',\n",
    " 'DCP_00015',\n",
    " 'DCP_00016',\n",
    " 'DCP_00018',\n",
    " 'DCP_00019',\n",
    " 'DCP_00020',\n",
    " 'DCP_00023',\n",
    " 'DCP_00024',\n",
    " 'DCP_00028',\n",
    " 'DCP_00029',\n",
    " 'DCP_00030',\n",
    " 'DCP_00034',\n",
    " 'DCP_00035',\n",
    " 'DCP_00036',\n",
    " 'DCP_00037',\n",
    " 'DCP_00038',\n",
    " 'DCP_00039',\n",
    " 'DCP_00040',\n",
    " 'DCP_00041',\n",
    " 'DCP_00042',\n",
    " 'DCP_00043',\n",
    " 'DCP_00044',\n",
    " 'DCP_00045',\n",
    " 'DCP_00046',\n",
    " 'DCP_00048',\n",
    " 'DCP_00049',\n",
    " 'DCP_00050',\n",
    " 'DCP_00051',\n",
    " 'DCP_00053',\n",
    " 'DCP_00054',\n",
    " 'DCP_00055',\n",
    " 'DCP_00056',\n",
    " 'DCP_00059',\n",
    " 'DCP_00060',\n",
    " 'DCP_00061',\n",
    " 'DCP_00063',\n",
    " 'DCP_00065',\n",
    " 'DCP_00066',\n",
    " 'DCP_00067',\n",
    " 'DCP_00068',\n",
    " 'DCP_00070',\n",
    " 'DCP_00072',\n",
    " 'DCP_00073',\n",
    " 'DCP_00074',\n",
    " 'DCP_00075',\n",
    " 'DCP_00077',\n",
    " 'DCP_00084',\n",
    " 'DCP_00089',\n",
    " 'DCP_00090',\n",
    " 'DCP_00092',\n",
    " 'DCP_00095',\n",
    " 'DCP_00097',\n",
    " 'DCP_00100',\n",
    " 'DCP_00101',\n",
    " 'DCP_00102',\n",
    " 'DCP_00106',\n",
    " 'DCP_00108',\n",
    " 'DCP_00109',\n",
    " 'DCP_00110',\n",
    " 'DCP_00111',\n",
    " 'DCP_00114',\n",
    " 'DCP_00118',\n",
    " 'DCP_00119',\n",
    " 'DCP_00120',\n",
    " 'DCP_00121',\n",
    " 'DCP_00122',\n",
    " 'DCP_00123',\n",
    " 'DCP_00124',\n",
    " 'DCP_00125',\n",
    " 'DCP_00126',\n",
    " 'DCP_00133',\n",
    " 'DCP_00135',\n",
    " 'DCP_00136',\n",
    " 'DCP_00140',\n",
    " 'DCP_00141',\n",
    " 'DCP_00142']"
   ]
  },
  {
   "cell_type": "code",
   "execution_count": 14,
   "metadata": {},
   "outputs": [],
   "source": [
    "def Get_ANN_Files(P):\n",
    "    ANN_Files = []\n",
    "    for File in os.listdir(\"..//Patient_Data_Files//\" + str(P)):\n",
    "        if File.endswith(\".annauxmix\"):\n",
    "            ANN_Files.append(str(P) + \"//\"+ str(File))\n",
    "    return ANN_Files"
   ]
  },
  {
   "cell_type": "code",
   "execution_count": 12,
   "metadata": {},
   "outputs": [
    {
     "data": {
      "text/plain": [
       "[(0, 1),\n",
       " (0, 2),\n",
       " (0, 4),\n",
       " (0, 5),\n",
       " (0, 6),\n",
       " (0, 8),\n",
       " (1, 2),\n",
       " (1, 4),\n",
       " (1, 5),\n",
       " (1, 6),\n",
       " (1, 8)]"
      ]
     },
     "execution_count": 12,
     "metadata": {},
     "output_type": "execute_result"
    }
   ],
   "source": [
    "perm = permutations(range(25), 2) \n",
    "Comb = permutations(range(25), 2)\n",
    "Comb = list(Comb)\n",
    "\n",
    "# 1,2,4,5,6,8\n",
    "Good_Comb = []\n",
    "for C in Comb:\n",
    "    if C[1]==1 or C[1]==2 or C[1]==4 or C[1]==5 or C[1]==6 or C[1]==8:\n",
    "        Good_Comb.append(C)\n",
    "\n",
    "Comb = Good_Comb\n",
    "Comb[:11]"
   ]
  },
  {
   "cell_type": "code",
   "execution_count": 15,
   "metadata": {},
   "outputs": [],
   "source": [
    "All_Files = {}\n",
    "for P in Patients:\n",
    "    Files = Get_ANN_Files(P)\n",
    "    All_Files[P] = Files\n",
    "    del Files"
   ]
  },
  {
   "cell_type": "code",
   "execution_count": 16,
   "metadata": {},
   "outputs": [
    {
     "data": {
      "text/html": [
       "<div>\n",
       "<style scoped>\n",
       "    .dataframe tbody tr th:only-of-type {\n",
       "        vertical-align: middle;\n",
       "    }\n",
       "\n",
       "    .dataframe tbody tr th {\n",
       "        vertical-align: top;\n",
       "    }\n",
       "\n",
       "    .dataframe thead th {\n",
       "        text-align: right;\n",
       "    }\n",
       "</style>\n",
       "<table border=\"1\" class=\"dataframe\">\n",
       "  <thead>\n",
       "    <tr style=\"text-align: right;\">\n",
       "      <th></th>\n",
       "      <th>Patient_ID</th>\n",
       "      <th>File</th>\n",
       "      <th>Before</th>\n",
       "      <th>Baseline</th>\n",
       "      <th>Valid</th>\n",
       "    </tr>\n",
       "  </thead>\n",
       "  <tbody>\n",
       "  </tbody>\n",
       "</table>\n",
       "</div>"
      ],
      "text/plain": [
       "Empty DataFrame\n",
       "Columns: [Patient_ID, File, Before, Baseline, Valid]\n",
       "Index: []"
      ]
     },
     "execution_count": 16,
     "metadata": {},
     "output_type": "execute_result"
    }
   ],
   "source": [
    "Files_Df_Valid = pd.DataFrame(columns=[\"Patient_ID\", \"File\", \"Before\", \"Baseline\", \"Valid\"])\n",
    "Files_Df_Valid"
   ]
  },
  {
   "cell_type": "code",
   "execution_count": 17,
   "metadata": {},
   "outputs": [
    {
     "data": {
      "text/plain": [
       "155"
      ]
     },
     "execution_count": 17,
     "metadata": {},
     "output_type": "execute_result"
    }
   ],
   "source": [
    "len(All_Files)"
   ]
  },
  {
   "cell_type": "code",
   "execution_count": 19,
   "metadata": {},
   "outputs": [
    {
     "data": {
      "text/plain": [
       "['C0163//23_11_2018_111900-23_11_2018_145400.annauxmix',\n",
       " 'C0163//23_11_2018_171800-23_11_2018_221300.annauxmix',\n",
       " 'C0163//23_11_2018_221430-24_11_2018_000000.annauxmix',\n",
       " 'C0163//24_11_2018_000000-24_11_2018_011600.annauxmix',\n",
       " 'C0163//24_11_2018_014500-24_11_2018_071700.annauxmix',\n",
       " 'C0163//24_11_2018_071730-24_11_2018_103500.annauxmix',\n",
       " 'C0163//24_11_2018_103930-24_11_2018_141700.annauxmix']"
      ]
     },
     "execution_count": 19,
     "metadata": {},
     "output_type": "execute_result"
    }
   ],
   "source": [
    "All_Files[\"C0163\"]"
   ]
  },
  {
   "cell_type": "code",
   "execution_count": 22,
   "metadata": {},
   "outputs": [],
   "source": [
    "Good_Comb = Comb"
   ]
  },
  {
   "cell_type": "code",
   "execution_count": 23,
   "metadata": {},
   "outputs": [],
   "source": [
    "Good_Comb.append((1,1))\n",
    "Good_Comb.append((2,2))\n",
    "Good_Comb.append((4,4))\n",
    "Good_Comb.append((5,5))\n",
    "Good_Comb.append((6,6))\n",
    "Good_Comb.append((8,8))"
   ]
  },
  {
   "cell_type": "code",
   "execution_count": 24,
   "metadata": {},
   "outputs": [],
   "source": [
    "Comb = Good_Comb\n",
    "del Good_Comb"
   ]
  },
  {
   "cell_type": "code",
   "execution_count": 25,
   "metadata": {},
   "outputs": [
    {
     "data": {
      "text/plain": [
       "[(0, 1),\n",
       " (0, 2),\n",
       " (0, 4),\n",
       " (0, 5),\n",
       " (0, 6),\n",
       " (0, 8),\n",
       " (1, 2),\n",
       " (1, 4),\n",
       " (1, 5),\n",
       " (1, 6),\n",
       " (1, 8)]"
      ]
     },
     "execution_count": 25,
     "metadata": {},
     "output_type": "execute_result"
    }
   ],
   "source": [
    "Comb[:11]"
   ]
  },
  {
   "cell_type": "code",
   "execution_count": 26,
   "metadata": {},
   "outputs": [
    {
     "name": "stderr",
     "output_type": "stream",
     "text": [
      "100%|██████████| 155/155 [14:21<00:00,  4.81s/it]\n"
     ]
    }
   ],
   "source": [
    "pbar = tqdm(total=len(Patients))\n",
    "for P in Patients:\n",
    "    Temp_Files = All_Files[P]\n",
    "    for Time in Comb:\n",
    "        Baseline = Time[0]\n",
    "        Bef = Time[1]\n",
    "        if Bef != 0:\n",
    "            for F in Temp_Files:\n",
    "                Files_Df_Valid = Files_Df_Valid.append({ \n",
    "                                                            \"Patient_ID\" : P,\n",
    "                                                            \"File\" : F,\n",
    "                                                            \"Before\" : Bef,\n",
    "                                                            \"Baseline\" : Baseline,\n",
    "                                                            \"Valid\" : \"\",\n",
    "                                              }, ignore_index=True)\n",
    "        else:\n",
    "            pass\n",
    "    del Temp_Files\n",
    "    pbar.update(1)\n",
    "pbar.close()"
   ]
  },
  {
   "cell_type": "code",
   "execution_count": 27,
   "metadata": {},
   "outputs": [
    {
     "data": {
      "text/plain": [
       "array([0, 1, 2, 3, 4, 5, 6, 7, 8, 9, 10, 11, 12, 13, 14, 15, 16, 17, 18,\n",
       "       19, 20, 21, 22, 23, 24], dtype=object)"
      ]
     },
     "execution_count": 27,
     "metadata": {},
     "output_type": "execute_result"
    }
   ],
   "source": [
    "Files_Df_Valid[\"Baseline\"].unique()"
   ]
  },
  {
   "cell_type": "code",
   "execution_count": 28,
   "metadata": {},
   "outputs": [
    {
     "data": {
      "text/html": [
       "<div>\n",
       "<style scoped>\n",
       "    .dataframe tbody tr th:only-of-type {\n",
       "        vertical-align: middle;\n",
       "    }\n",
       "\n",
       "    .dataframe tbody tr th {\n",
       "        vertical-align: top;\n",
       "    }\n",
       "\n",
       "    .dataframe thead th {\n",
       "        text-align: right;\n",
       "    }\n",
       "</style>\n",
       "<table border=\"1\" class=\"dataframe\">\n",
       "  <thead>\n",
       "    <tr style=\"text-align: right;\">\n",
       "      <th></th>\n",
       "      <th>Patient_ID</th>\n",
       "      <th>File</th>\n",
       "      <th>Before</th>\n",
       "      <th>Baseline</th>\n",
       "      <th>Valid</th>\n",
       "    </tr>\n",
       "  </thead>\n",
       "  <tbody>\n",
       "    <tr>\n",
       "      <th>0</th>\n",
       "      <td>C0160</td>\n",
       "      <td>C0160//16_11_2018_142000-16_11_2018_142100.ann...</td>\n",
       "      <td>1</td>\n",
       "      <td>0</td>\n",
       "      <td></td>\n",
       "    </tr>\n",
       "    <tr>\n",
       "      <th>1</th>\n",
       "      <td>C0160</td>\n",
       "      <td>C0160//17_11_2018_093200-17_11_2018_093800.ann...</td>\n",
       "      <td>1</td>\n",
       "      <td>0</td>\n",
       "      <td></td>\n",
       "    </tr>\n",
       "    <tr>\n",
       "      <th>2</th>\n",
       "      <td>C0160</td>\n",
       "      <td>C0160//16_11_2018_142000-16_11_2018_142100.ann...</td>\n",
       "      <td>2</td>\n",
       "      <td>0</td>\n",
       "      <td></td>\n",
       "    </tr>\n",
       "    <tr>\n",
       "      <th>3</th>\n",
       "      <td>C0160</td>\n",
       "      <td>C0160//17_11_2018_093200-17_11_2018_093800.ann...</td>\n",
       "      <td>2</td>\n",
       "      <td>0</td>\n",
       "      <td></td>\n",
       "    </tr>\n",
       "    <tr>\n",
       "      <th>4</th>\n",
       "      <td>C0160</td>\n",
       "      <td>C0160//16_11_2018_142000-16_11_2018_142100.ann...</td>\n",
       "      <td>4</td>\n",
       "      <td>0</td>\n",
       "      <td></td>\n",
       "    </tr>\n",
       "  </tbody>\n",
       "</table>\n",
       "</div>"
      ],
      "text/plain": [
       "  Patient_ID                                               File Before  \\\n",
       "0      C0160  C0160//16_11_2018_142000-16_11_2018_142100.ann...      1   \n",
       "1      C0160  C0160//17_11_2018_093200-17_11_2018_093800.ann...      1   \n",
       "2      C0160  C0160//16_11_2018_142000-16_11_2018_142100.ann...      2   \n",
       "3      C0160  C0160//17_11_2018_093200-17_11_2018_093800.ann...      2   \n",
       "4      C0160  C0160//16_11_2018_142000-16_11_2018_142100.ann...      4   \n",
       "\n",
       "  Baseline Valid  \n",
       "0        0        \n",
       "1        0        \n",
       "2        0        \n",
       "3        0        \n",
       "4        0        "
      ]
     },
     "execution_count": 28,
     "metadata": {},
     "output_type": "execute_result"
    }
   ],
   "source": [
    "Files_Df_Valid.head()"
   ]
  },
  {
   "cell_type": "code",
   "execution_count": 29,
   "metadata": {},
   "outputs": [
    {
     "name": "stderr",
     "output_type": "stream",
     "text": [
      "100%|██████████| 107250/107250 [00:28<00:00, 3710.39it/s]\n"
     ]
    }
   ],
   "source": [
    "pbar = tqdm(total=len(Files_Df_Valid))\n",
    "for Row in Files_Df_Valid.iterrows():\n",
    "    F = Row[1][1]\n",
    "    Bef = Row[1][2]\n",
    "    Baseline = Row[1][3]\n",
    "    Valid = Get_Date_Min_Max(F, Bef, Baseline)[\"Valid\"]\n",
    "    if Valid == True:\n",
    "        Files_Df_Valid.loc[Row[0], \"Valid\"] = True\n",
    "    else:\n",
    "        Files_Df_Valid.loc[Row[0], \"Valid\"] = False\n",
    "    pbar.update(1)\n",
    "pbar.close()"
   ]
  },
  {
   "cell_type": "code",
   "execution_count": 30,
   "metadata": {},
   "outputs": [
    {
     "data": {
      "text/plain": [
       "array([0, 1, 2, 3, 4, 5, 6, 7, 8, 9, 10, 11, 12, 13, 14, 15, 16, 17, 18,\n",
       "       19, 20, 21, 22, 23, 24], dtype=object)"
      ]
     },
     "execution_count": 30,
     "metadata": {},
     "output_type": "execute_result"
    }
   ],
   "source": [
    "Files_Df_Valid[\"Baseline\"].unique()"
   ]
  },
  {
   "cell_type": "code",
   "execution_count": 31,
   "metadata": {},
   "outputs": [
    {
     "data": {
      "text/html": [
       "<div>\n",
       "<style scoped>\n",
       "    .dataframe tbody tr th:only-of-type {\n",
       "        vertical-align: middle;\n",
       "    }\n",
       "\n",
       "    .dataframe tbody tr th {\n",
       "        vertical-align: top;\n",
       "    }\n",
       "\n",
       "    .dataframe thead th {\n",
       "        text-align: right;\n",
       "    }\n",
       "</style>\n",
       "<table border=\"1\" class=\"dataframe\">\n",
       "  <thead>\n",
       "    <tr style=\"text-align: right;\">\n",
       "      <th></th>\n",
       "      <th>Patient_ID</th>\n",
       "      <th>File</th>\n",
       "      <th>Before</th>\n",
       "      <th>Baseline</th>\n",
       "      <th>Valid</th>\n",
       "    </tr>\n",
       "  </thead>\n",
       "  <tbody>\n",
       "    <tr>\n",
       "      <th>0</th>\n",
       "      <td>C0160</td>\n",
       "      <td>C0160//16_11_2018_142000-16_11_2018_142100.ann...</td>\n",
       "      <td>1</td>\n",
       "      <td>0</td>\n",
       "      <td>False</td>\n",
       "    </tr>\n",
       "    <tr>\n",
       "      <th>1</th>\n",
       "      <td>C0160</td>\n",
       "      <td>C0160//17_11_2018_093200-17_11_2018_093800.ann...</td>\n",
       "      <td>1</td>\n",
       "      <td>0</td>\n",
       "      <td>False</td>\n",
       "    </tr>\n",
       "    <tr>\n",
       "      <th>2</th>\n",
       "      <td>C0160</td>\n",
       "      <td>C0160//16_11_2018_142000-16_11_2018_142100.ann...</td>\n",
       "      <td>2</td>\n",
       "      <td>0</td>\n",
       "      <td>False</td>\n",
       "    </tr>\n",
       "    <tr>\n",
       "      <th>3</th>\n",
       "      <td>C0160</td>\n",
       "      <td>C0160//17_11_2018_093200-17_11_2018_093800.ann...</td>\n",
       "      <td>2</td>\n",
       "      <td>0</td>\n",
       "      <td>False</td>\n",
       "    </tr>\n",
       "    <tr>\n",
       "      <th>4</th>\n",
       "      <td>C0160</td>\n",
       "      <td>C0160//16_11_2018_142000-16_11_2018_142100.ann...</td>\n",
       "      <td>4</td>\n",
       "      <td>0</td>\n",
       "      <td>False</td>\n",
       "    </tr>\n",
       "    <tr>\n",
       "      <th>...</th>\n",
       "      <td>...</td>\n",
       "      <td>...</td>\n",
       "      <td>...</td>\n",
       "      <td>...</td>\n",
       "      <td>...</td>\n",
       "    </tr>\n",
       "    <tr>\n",
       "      <th>107245</th>\n",
       "      <td>DCP_00142</td>\n",
       "      <td>DCP_00142//06_02_2020_000000-06_02_2020_083400...</td>\n",
       "      <td>5</td>\n",
       "      <td>5</td>\n",
       "      <td>True</td>\n",
       "    </tr>\n",
       "    <tr>\n",
       "      <th>107246</th>\n",
       "      <td>DCP_00142</td>\n",
       "      <td>DCP_00142//05_02_2020_111230-06_02_2020_000000...</td>\n",
       "      <td>6</td>\n",
       "      <td>6</td>\n",
       "      <td>False</td>\n",
       "    </tr>\n",
       "    <tr>\n",
       "      <th>107247</th>\n",
       "      <td>DCP_00142</td>\n",
       "      <td>DCP_00142//06_02_2020_000000-06_02_2020_083400...</td>\n",
       "      <td>6</td>\n",
       "      <td>6</td>\n",
       "      <td>True</td>\n",
       "    </tr>\n",
       "    <tr>\n",
       "      <th>107248</th>\n",
       "      <td>DCP_00142</td>\n",
       "      <td>DCP_00142//05_02_2020_111230-06_02_2020_000000...</td>\n",
       "      <td>8</td>\n",
       "      <td>8</td>\n",
       "      <td>False</td>\n",
       "    </tr>\n",
       "    <tr>\n",
       "      <th>107249</th>\n",
       "      <td>DCP_00142</td>\n",
       "      <td>DCP_00142//06_02_2020_000000-06_02_2020_083400...</td>\n",
       "      <td>8</td>\n",
       "      <td>8</td>\n",
       "      <td>False</td>\n",
       "    </tr>\n",
       "  </tbody>\n",
       "</table>\n",
       "<p>107250 rows × 5 columns</p>\n",
       "</div>"
      ],
      "text/plain": [
       "       Patient_ID                                               File Before  \\\n",
       "0           C0160  C0160//16_11_2018_142000-16_11_2018_142100.ann...      1   \n",
       "1           C0160  C0160//17_11_2018_093200-17_11_2018_093800.ann...      1   \n",
       "2           C0160  C0160//16_11_2018_142000-16_11_2018_142100.ann...      2   \n",
       "3           C0160  C0160//17_11_2018_093200-17_11_2018_093800.ann...      2   \n",
       "4           C0160  C0160//16_11_2018_142000-16_11_2018_142100.ann...      4   \n",
       "...           ...                                                ...    ...   \n",
       "107245  DCP_00142  DCP_00142//06_02_2020_000000-06_02_2020_083400...      5   \n",
       "107246  DCP_00142  DCP_00142//05_02_2020_111230-06_02_2020_000000...      6   \n",
       "107247  DCP_00142  DCP_00142//06_02_2020_000000-06_02_2020_083400...      6   \n",
       "107248  DCP_00142  DCP_00142//05_02_2020_111230-06_02_2020_000000...      8   \n",
       "107249  DCP_00142  DCP_00142//06_02_2020_000000-06_02_2020_083400...      8   \n",
       "\n",
       "       Baseline  Valid  \n",
       "0             0  False  \n",
       "1             0  False  \n",
       "2             0  False  \n",
       "3             0  False  \n",
       "4             0  False  \n",
       "...         ...    ...  \n",
       "107245        5   True  \n",
       "107246        6  False  \n",
       "107247        6   True  \n",
       "107248        8  False  \n",
       "107249        8  False  \n",
       "\n",
       "[107250 rows x 5 columns]"
      ]
     },
     "execution_count": 31,
     "metadata": {},
     "output_type": "execute_result"
    }
   ],
   "source": [
    "Files_Df_Valid"
   ]
  },
  {
   "cell_type": "code",
   "execution_count": 34,
   "metadata": {},
   "outputs": [
    {
     "data": {
      "text/html": [
       "<div>\n",
       "<style scoped>\n",
       "    .dataframe tbody tr th:only-of-type {\n",
       "        vertical-align: middle;\n",
       "    }\n",
       "\n",
       "    .dataframe tbody tr th {\n",
       "        vertical-align: top;\n",
       "    }\n",
       "\n",
       "    .dataframe thead th {\n",
       "        text-align: right;\n",
       "    }\n",
       "</style>\n",
       "<table border=\"1\" class=\"dataframe\">\n",
       "  <thead>\n",
       "    <tr style=\"text-align: right;\">\n",
       "      <th></th>\n",
       "      <th>Patient_ID</th>\n",
       "      <th>File</th>\n",
       "      <th>Before</th>\n",
       "      <th>Baseline</th>\n",
       "      <th>Valid</th>\n",
       "      <th>Index</th>\n",
       "    </tr>\n",
       "  </thead>\n",
       "  <tbody>\n",
       "    <tr>\n",
       "      <th>0</th>\n",
       "      <td>C0161</td>\n",
       "      <td>C0161//22_11_2018_000000-22_11_2018_092830.ann...</td>\n",
       "      <td>1</td>\n",
       "      <td>2</td>\n",
       "      <td>True</td>\n",
       "      <td>0</td>\n",
       "    </tr>\n",
       "    <tr>\n",
       "      <th>1</th>\n",
       "      <td>C0161</td>\n",
       "      <td>C0161//22_11_2018_000000-22_11_2018_092830.ann...</td>\n",
       "      <td>1</td>\n",
       "      <td>3</td>\n",
       "      <td>True</td>\n",
       "      <td>1</td>\n",
       "    </tr>\n",
       "    <tr>\n",
       "      <th>2</th>\n",
       "      <td>C0161</td>\n",
       "      <td>C0161//22_11_2018_000000-22_11_2018_092830.ann...</td>\n",
       "      <td>2</td>\n",
       "      <td>3</td>\n",
       "      <td>True</td>\n",
       "      <td>2</td>\n",
       "    </tr>\n",
       "    <tr>\n",
       "      <th>3</th>\n",
       "      <td>C0161</td>\n",
       "      <td>C0161//22_11_2018_000000-22_11_2018_092830.ann...</td>\n",
       "      <td>1</td>\n",
       "      <td>4</td>\n",
       "      <td>True</td>\n",
       "      <td>3</td>\n",
       "    </tr>\n",
       "    <tr>\n",
       "      <th>4</th>\n",
       "      <td>C0161</td>\n",
       "      <td>C0161//22_11_2018_000000-22_11_2018_092830.ann...</td>\n",
       "      <td>2</td>\n",
       "      <td>4</td>\n",
       "      <td>True</td>\n",
       "      <td>4</td>\n",
       "    </tr>\n",
       "  </tbody>\n",
       "</table>\n",
       "</div>"
      ],
      "text/plain": [
       "  Patient_ID                                               File Before  \\\n",
       "0      C0161  C0161//22_11_2018_000000-22_11_2018_092830.ann...      1   \n",
       "1      C0161  C0161//22_11_2018_000000-22_11_2018_092830.ann...      1   \n",
       "2      C0161  C0161//22_11_2018_000000-22_11_2018_092830.ann...      2   \n",
       "3      C0161  C0161//22_11_2018_000000-22_11_2018_092830.ann...      1   \n",
       "4      C0161  C0161//22_11_2018_000000-22_11_2018_092830.ann...      2   \n",
       "\n",
       "  Baseline Valid  Index  \n",
       "0        2  True      0  \n",
       "1        3  True      1  \n",
       "2        3  True      2  \n",
       "3        4  True      3  \n",
       "4        4  True      4  "
      ]
     },
     "execution_count": 34,
     "metadata": {},
     "output_type": "execute_result"
    }
   ],
   "source": [
    "Files_To_Process = Files_Df_Valid.loc[Files_Df_Valid[\"Valid\"] == True]\n",
    "Files_To_Process.reset_index(drop=True, inplace=True)\n",
    "Files_To_Process[\"Index\"] = Files_To_Process.index.values.tolist()\n",
    "Files_To_Process.head()"
   ]
  },
  {
   "cell_type": "code",
   "execution_count": 35,
   "metadata": {},
   "outputs": [],
   "source": [
    "Files_To_Process.to_excel(\"Valids.xlsx\", index=False)"
   ]
  },
  {
   "cell_type": "code",
   "execution_count": 36,
   "metadata": {},
   "outputs": [
    {
     "data": {
      "text/plain": [
       "(14491, 6)"
      ]
     },
     "execution_count": 36,
     "metadata": {},
     "output_type": "execute_result"
    }
   ],
   "source": [
    "Files_To_Process.shape"
   ]
  },
  {
   "cell_type": "markdown",
   "metadata": {},
   "source": [
    "# Testing"
   ]
  },
  {
   "cell_type": "markdown",
   "metadata": {},
   "source": [
    "- This is only for testing the different componenets of the script"
   ]
  },
  {
   "cell_type": "code",
   "execution_count": 21,
   "metadata": {},
   "outputs": [],
   "source": [
    "['DCP_00133//18_01_2020_160600-19_01_2020_000000.annauxmix',\n",
    "  'DCP_00133//19_01_2020_000000-19_01_2020_115130.annauxmix']\n",
    "Files_Name_One = \"DCP_00133//18_01_2020_160600-19_01_2020_000000.annauxmix\"\n",
    "Files_Name_Two = \"DCP_00133//19_01_2020_000000-19_01_2020_115130.annauxmix\"\n",
    "Before = 3\n",
    "Finish = 1"
   ]
  },
  {
   "cell_type": "code",
   "execution_count": null,
   "metadata": {},
   "outputs": [],
   "source": [
    "d1 = datetime.datetime(2020,1,18,) \n",
    "d2 = datetime.datetime(2020,1,19) "
   ]
  },
  {
   "cell_type": "code",
   "execution_count": null,
   "metadata": {},
   "outputs": [],
   "source": []
  },
  {
   "cell_type": "code",
   "execution_count": null,
   "metadata": {},
   "outputs": [],
   "source": []
  },
  {
   "cell_type": "code",
   "execution_count": null,
   "metadata": {},
   "outputs": [],
   "source": [
    "ftr = [3600,60,1]\n",
    "\n",
    "Files = Files_Name.split(\"//\")[-1].split(\".\")[0]\n",
    "\n",
    "Start = Files_Name.split(\"//\")[-1].split(\".\")[0].split(\"-\")[0].split(\"_\")[-1]\n",
    "Start = Start[0:2] + \":\" + Start[2:4] + \":\" + Start[4:6]\n",
    "Start = sum([a*b for a,b in zip(ftr, map(int,Start.split(':')))])\n",
    "\n",
    "End =Files_Name.split(\"//\")[-1].split(\".\")[0].split(\"-\")[1].split(\"_\")[-1]\n",
    "End = End[0:2] + \":\" + End[2:4] + \":\" + End[4:6]\n",
    "End = sum([a*b for a,b in zip(ftr, map(int,End.split(':')))])\n",
    "\n",
    "Date_1 = Files.split(\"-\")[0].split(\"_\")[:3][::-1]\n",
    "Date_2 = Files.split(\"-\")[1].split(\"_\")[:3][::-1]\n",
    "\n",
    "Date_1 = datetime.datetime(int(Date_1[0]), int(Date_1[1]), int(Date_1[2]))\n",
    "Date_2 = datetime.datetime(int(Date_2[0]), int(Date_2[1]), int(Date_2[2]))\n",
    "\n",
    "Start = addSecs(Date_1, Start)\n",
    "End = addSecs(Date_2, End)\n",
    "\n",
    "if End.hour == 0:\n",
    "    if Finish == 24:\n",
    "        Valid_Before = int(24-Before) in range(Start.hour, 24)\n",
    "    else:\n",
    "        Valid_Before = int(Finish-Before) in range(Start.hour, 24)\n",
    "else:\n",
    "    Valid_Before = int(Finish-Before) in range(Start.hour, End.hour)\n",
    "\n",
    "if End.hour == 0:\n",
    "    Valid_Finish = int(24) in range(Start.hour, 25)\n",
    "else:\n",
    "    Valid_Finish = int(Finish) in range(Start.hour, End.hour)\n",
    "Valid = Valid_Before and Valid_Finish\n",
    "\n",
    "Temp = {\n",
    "        \"Valid\" : Valid,\n",
    "        \"Date\" : Date_1,\n",
    "        \"Start\" : Start,\n",
    "        \"End\" : End\n",
    "        }\n",
    "\n",
    "Temp"
   ]
  }
 ],
 "metadata": {
  "kernelspec": {
   "display_name": "Python 3",
   "language": "python",
   "name": "python3"
  },
  "language_info": {
   "codemirror_mode": {
    "name": "ipython",
    "version": 3
   },
   "file_extension": ".py",
   "mimetype": "text/x-python",
   "name": "python",
   "nbconvert_exporter": "python",
   "pygments_lexer": "ipython3",
   "version": "3.7.3"
  }
 },
 "nbformat": 4,
 "nbformat_minor": 4
}

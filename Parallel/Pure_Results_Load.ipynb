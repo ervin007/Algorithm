{
 "cells": [
  {
   "cell_type": "code",
   "execution_count": 1,
   "metadata": {},
   "outputs": [],
   "source": [
    "import pandas as pd\n",
    "import numpy as np\n",
    "import os"
   ]
  },
  {
   "cell_type": "code",
   "execution_count": 1,
   "metadata": {},
   "outputs": [],
   "source": [
    "def Load_Save_Excel(Time):\n",
    "    Results = os.listdir(str(Time) + \"h_Interval_Results/\")\n",
    "    # Results = os.listdir(\"2h_Interval_Results/\")\n",
    "    # Results = os.listdir(\"4h_Interval_Results/\")\n",
    "    # Results = os.listdir(\"5h_Interval_Results/\")\n",
    "    # Results = os.listdir(\"6h_Interval_Results/\")\n",
    "    # Results = os.listdir(\"8h_Interval_Results/\")\n",
    "    # Results = os.listdir(\"Segmented\")\n",
    "\n",
    "    # Datas = pd.DataFrame(columns=[\"Patient_ID\", \"Interval\", \"End\", \"File\", \"Pure_SDNN\", \"Pure_ASNN\", \"Pure_SDANN\", \"Pure_NN50\", \"Pure_pNN50\", \"Pure_rMSSD\"])\n",
    "    Datas = pd.DataFrame(columns=[\"Patient_ID\", \"Interval\", \"End\", \"File\", \"Pure_SDNN\", \"Pure_rMSSD\"])\n",
    "#     Datas.head()\n",
    "\n",
    "    for R in Results:\n",
    "        Temp = pd.read_csv(str(Time) + \"h_Interval_Results//\" + str(R), names=[\"Patient_ID\", \"Interval\", \"End\", \"File\", \"Pure_SDNN\", \"Pure_rMSSD\"], delimiter=\"|\")\n",
    "        Datas = pd.concat([Datas, Temp], ignore_index=True)\n",
    "        del Temp\n",
    "        print(R)\n",
    "\n",
    "#     Datas.head()\n",
    "\n",
    "#     Datas.shape\n",
    "\n",
    "#     Datas.dropna()[:21]\n",
    "\n",
    "    Datas_Not_Null = Datas.dropna()\n",
    "    Datas_Not_Null.shape\n",
    "\n",
    "    Datas_Not_Null.to_excel(str(Time) + \"h_Intervals_AllPatients.xlsx\", index=False)\n",
    "    Datas_Not_Null.to_csv(str(Time) + \"h_Intervals_AllPatients.csv\", index=False)\n",
    "    \n",
    "    return print(\"Finished\")"
   ]
  },
  {
   "cell_type": "code",
   "execution_count": null,
   "metadata": {},
   "outputs": [],
   "source": [
    "Load_Save_Excel(1)"
   ]
  }
 ],
 "metadata": {
  "kernelspec": {
   "display_name": "Python 3",
   "language": "python",
   "name": "python3"
  },
  "language_info": {
   "codemirror_mode": {
    "name": "ipython",
    "version": 3
   },
   "file_extension": ".py",
   "mimetype": "text/x-python",
   "name": "python",
   "nbconvert_exporter": "python",
   "pygments_lexer": "ipython3",
   "version": "3.7.3"
  }
 },
 "nbformat": 4,
 "nbformat_minor": 4
}
